{
  "nbformat": 4,
  "nbformat_minor": 0,
  "metadata": {
    "colab": {
      "provenance": []
    },
    "kernelspec": {
      "name": "python3",
      "display_name": "Python 3"
    },
    "language_info": {
      "name": "python"
    }
  },
  "cells": [
    {
      "cell_type": "markdown",
      "source": [
        "1: What are data structures, and why are they important?\n",
        "\n",
        "ANS: A data structure is a way of organizing, storing, and managing data in a computer so it can be accessed and used efficiently. They define the relationship between the data and the operations that can be performed on it.\n",
        "\n",
        "**Efficient Data Management**:Allows data to be stored in an organized manner for efficient retrieval and modification.\n",
        "\n",
        "**Optimized Algorithms**:Algorithms often rely on specific data structures for optimal performance (e.g., searching in a binary tree).\n",
        "\n",
        "**Problem Solving**:Some problems are inherently tied to data structures (e.g., using graphs for network routing problems).\n",
        "\n",
        "**Reusability:**Well-designed data structures can be reused across multiple applications or projects.\n",
        "\n",
        "**Memory Management:**Helps in managing memory usage efficiently, reducing overhead and improving performance."
      ],
      "metadata": {
        "id": "mizHsdDVdFJG"
      }
    },
    {
      "cell_type": "markdown",
      "source": [
        "2: Explain the difference between mutable and immutable data types with examples?\n",
        "\n",
        "ANS:Mutable data types can be changed after creation without changing their identity (memory location).\n",
        "Examples: Lists, Dictionaries, Sets, User-Defined Object\n",
        "\n",
        " Immutable data types cannot be changed after creation. Any attempt to modify them creates a new object.\n",
        "Examples: Integers, Floats, Strings, Tuples, Frozensets"
      ],
      "metadata": {
        "id": "rhvtxLbCQBil"
      }
    },
    {
      "cell_type": "markdown",
      "source": [
        "3:What are the main differences between lists and tuples in Python?\n",
        "\n",
        "ANS:List:Mutable: Can be modified after creation.\n",
        "Syntax\tDefined using square brackets [ ].\n",
        "Slower due to dynamic resizing and mutability.\n",
        "Takes more memory for dynamic operations.\n",
        "Suitable for frequently changing data.\n",
        "Supports methods like append(), remove(), etc.\n",
        "Not hashable, cannot be used as keys in dictionaries.\n",
        "\n",
        "tuple:Immutable: Cannot be modified after creation.\n",
        "Defined using parentheses ( ).\n",
        "Faster due to immutability and fixed size.\n",
        "Requires less memory.\n",
        "Suitable for fixed or constant data.\n",
        "Limited methods: Only count() and index().\n",
        "Hashable (if containing only hashable types), can be used as dictionary keys.\n"
      ],
      "metadata": {
        "id": "j9rOf4rdXcN3"
      }
    },
    {
      "cell_type": "markdown",
      "source": [
        "4:Describe how dictionaries store data?\n",
        "\n",
        "ANS:In Python, dictionaries are a data structure that store data in key-value pairs, providing fast access and efficient management of data. Here’s how dictionaries store and manage data internally:\n",
        "\n",
        "To retrieve a value, the dictionary computes the hash of the key.\n",
        "The hash value determines which bucket contains the key-value pair.\n",
        "\n",
        "\n",
        "If multiple keys are stored in the same bucket due to a hash collision, Python compares the keys to find the exact match.\n"
      ],
      "metadata": {
        "id": "uyFycQ4FYWnb"
      }
    },
    {
      "cell_type": "markdown",
      "source": [
        "5:Why might you use a set instead of a list in Python?\n",
        "\n",
        "ANS:In Python, sets and lists are both collections used to store multiple items, but they serve different purposes. Here’s why you might choose a set over a list in certain scenarios:\n",
        "\n",
        "Set: Automatically enforces that all elements are unique. If you add a duplicate element, it will be ignored.\n",
        "\n",
        "List: Allows duplicate elements.\n",
        "\n",
        "Set: Membership testing (e.g., x in my_set) is highly efficient, with average time complexity of O(1).\n",
        "\n",
        "List: Membership testing requires a linear search, with time complexity of O(n).\n",
        "\n",
        "Set: Supports mathematical operations like union, intersection, and difference, making it easy to work with relationships between collections.\n",
        "\n",
        "List: Does not natively support these operations; additional code is required.\n",
        "\n",
        "Sets can be made immutable using the frozenset type, which can act as a dictionary key or an element in another set.\n",
        "\n",
        "Lists cannot be made immutable."
      ],
      "metadata": {
        "id": "J90lW5bYC5z2"
      }
    },
    {
      "cell_type": "markdown",
      "source": [
        "6: What is a string in Python, and how is it different from a list?"
      ],
      "metadata": {
        "id": "HNoAEq1_C53A"
      }
    },
    {
      "cell_type": "markdown",
      "source": [
        "7: How do tuples ensure data integrity in Python?\n",
        "\n",
        "ANS:Tuples in Python are immutable, meaning their contents cannot be changed after they are created. This immutability plays a key role in ensuring data integrity, as it protects the data from unintentional modifications. Here’s how tuples achieve this:\n",
        "\n",
        "Immutability Protects Data from Modification:\n",
        "Once a tuple is created, its contents cannot be altered (no adding, removing, or changing elements).\n",
        "This ensures that the data stored in a tuple remains consistent and unchanged throughout the program.\n",
        "\n",
        "Hashability of Tuples:\n",
        "Tuples are hashable (if they contain only immutable elements), meaning they can be used as keys in dictionaries or elements in sets.\n",
        "This ensures that tuples can act as reliable identifiers without the risk of their values being altered.\n",
        "\n",
        "Preventing Side Effects in Functions:\n",
        "When a tuple is passed as an argument to a function, the original data remains safe from modification.\n",
        "This ensures that the function cannot inadvertently alter the data.\n",
        "\n",
        "Consistency in Multi-Threaded Environments:\n",
        "In multi-threaded applications, immutable objects like tuples prevent race conditions and data corruption, as the data cannot be changed by one thread while another thread is reading it.\n",
        "\n",
        " Clear Intent for Constant Data:\n",
        "Using a tuple conveys that the data is intended to remain constant, promoting better readability and understanding of the code.\n",
        "This makes the program logic more robust and predictable."
      ],
      "metadata": {
        "id": "d3-DpFAQC56K"
      }
    },
    {
      "cell_type": "markdown",
      "source": [
        "8: What is a hash table, and how does it relate to dictionaries in Python?\n",
        "\n",
        "ANS:A hash table is the underlying data structure that powers Python dictionaries, providing fast and efficient access to key-value pairs. By leveraging hashing, Python dictionaries ensure quick lookups, even with large datasets, while automatically handling collisions and resizing as needed. This makes dictionaries a powerful and versatile tool in Python programming.\n",
        "\n",
        "A hash table is a data structure that stores key-value pairs and uses a hash function to map keys to specific locations (called buckets) in memory. This allows for efficient retrieval, insertion, and deletion of values based on their keys.\n",
        "\n",
        "**How Hash Tables Work**\n",
        "\n",
        "Hash Function:The hash function converts a key into an integer (hash value).\n",
        "The hash value determines the index in the hash table where the key-value pair will be stored.\n",
        "\n",
        "Buckets:A hash table is essentially an array of buckets. Each bucket can hold one or more key-value pairs.\n",
        "\n",
        "Handling Collisions:When two keys produce the same hash value (a collision), the hash table resolves it using strategies like:\n",
        "Chaining: Store multiple key-value pairs in the same bucket using a linked list or another data structure.\n",
        "Open Addressing: Find another empty bucket for the colliding key-value pair.\n"
      ],
      "metadata": {
        "id": "zU7sqrjIC59Y"
      }
    },
    {
      "cell_type": "markdown",
      "source": [
        "9:Can lists contain different data types in Python?\n",
        "\n",
        "ANS:Yes, lists in Python can contain elements of different data types. Python lists are heterogeneous by design, meaning you can store multiple types of data within the same list. This is a significant feature of Python's dynamic typing and flexibility.\n",
        "Example\n",
        "\n",
        "complex_list = [42, \"Python\", [1, 2, 3], {\"key\": \"value\"}]\n",
        "\n",
        "print(complex_list)\n",
        "\n",
        "Output: [42, 'Python', [1, 2, 3], {'key': 'value'}]\n"
      ],
      "metadata": {
        "id": "ujSWN70mC6Ac"
      }
    },
    {
      "cell_type": "markdown",
      "source": [
        "10: Explain why strings are immutable in Python?\n",
        "\n",
        "ANS:In Python, strings are immutable, meaning that once a string is created, it cannot be changed. Any operation that appears to modify a string actually creates a new string object. This immutability is a deliberate design choice in Python, and it has several practical and technical benefits.\n",
        "\n",
        "Strings are widely used in programming, often as keys in dictionaries or as parts of large data structures.\n",
        "\n",
        "Immutability allows strings to be interned (reused in memory), reducing memory overhead. Python can optimize storage by storing identical string values only once.\n",
        "\n",
        "Immutability makes strings hashable, which means their values cannot change after they are used as keys in dictionaries or elements in sets.\n",
        "\n",
        "If strings were mutable, their hash value would change whenever their content was modified, leading to unpredictable behavior.\n",
        "\n",
        "Immutability makes strings inherently thread-safe. Multiple threads can access and use the same string object without worrying about one thread modifying it while another is reading it.\n",
        "\n",
        "By keeping strings immutable, Python eliminates potential bugs related to in-place modification. Developers can always rely on the fact that a string object won't change unless explicitly replaced."
      ],
      "metadata": {
        "id": "-6fPCJ6EC6Dd"
      }
    },
    {
      "cell_type": "markdown",
      "source": [
        "11: What advantages do dictionaries offer over lists for certain tasks?\n",
        "\n",
        "ANS:Dictionaries and lists are two fundamental data structures in Python, but they are suited for different tasks. Dictionaries provide several advantages over lists for specific scenarios where key-value associations or fast lookups are required.\n",
        "\n",
        "Dictionaries allow you to associate a key with a value, enabling more meaningful data organization.\n",
        "In contrast, lists are indexed by position, and the relationship between data elements is often implied.\n",
        "\n",
        "**Using a dictionary**\n",
        "\n",
        "student_grades = {\"Alice\": 90, \"Bob\": 85, \"Charlie\": 92}\n",
        "\n",
        "print(student_grades[\"Alice\"])  # Output: 90\n",
        "\n",
        "**Using a list**\n",
        "\n",
        "students = [\"Alice\", \"Bob\", \"Charlie\"]\n",
        "grades = [90, 85, 92]\n",
        "\n",
        "index = students.index(\"Alice\")\n",
        "print(grades[index])  # Output: 90\n",
        "\n",
        "Dictionaries are implemented using hash tables, providing average O(1) time complexity for lookups.\n",
        "\n",
        "Lists require O(n) time for searching because they involve linear traversal.\n",
        "\n",
        "Dictionaries automatically prevent duplicate keys, ensuring that data integrity is maintained for unique identifiers.\n",
        "\n",
        "Lists, however, can contain duplicate elements, which may require additional checks to ensure uniqueness."
      ],
      "metadata": {
        "id": "FfHSs3rzC6Gf"
      }
    },
    {
      "cell_type": "markdown",
      "source": [
        "12:Describe a scenario where using a tuple would be preferable over a lis?\n",
        "\n",
        "ANS:Tuples and lists are both used to store collections of data in Python, but they are suited for different tasks due to their differences in mutability and performance. Here's a scenario where using a tuple is more appropriate than using a list:\n",
        "\n",
        "Suppose you're working on a 2D coordinate system for a game, map, or some other application that involves geographic locations. A coordinate consists of two numbers: an x-coordinate and a y-coordinate. These values are immutable by nature because once the coordinates are set, they don’t change during the program’s execution. In such cases, a tuple is more appropriate than a list for the following reasons:\n",
        "\n",
        "Immutability:Since coordinates should not change once they are assigned, a tuple ensures that the values are not accidentally modified.\n",
        "Lists, being mutable, would allow the modification of coordinate values, which is not desired.\n",
        "\n",
        "Performance:Tuples are more memory efficient and faster than lists when it comes to iteration and accessing elements because they are immutable and optimized for read-only access.\n",
        "\n",
        "Semantic Meaning:Using a tuple makes it clear that the collection of coordinates is intended to remain unchanged. This can make the code more readable and semantically correct.\n",
        "\n",
        "Hashable for Use in Sets and Dictionaries:Tuples are hashable, meaning they can be used as keys in dictionaries or elements in sets, while lists are not hashable due to their mutability.\n",
        "\n",
        "summary\n",
        "\n",
        "When data should remain constant: Use a tuple when you have data that is not intended to change, like geographic coordinates, RGB color values, or other fixed values.\n",
        "\n",
        "For better performance: Tuples are faster and more memory efficient compared to lists, especially when the data does not need to change.\n",
        "\n",
        "When you need hashable elements: Tuples can be used as keys in dictionaries or as elements in sets, unlike lists."
      ],
      "metadata": {
        "id": "K7hcpQJIC6KK"
      }
    },
    {
      "cell_type": "markdown",
      "source": [
        "13: How do sets handle duplicate values in Python?\n",
        "\n",
        "ANS:In Python, a set is an unordered collection of unique elements. Sets automatically remove duplicates when you add elements to them, ensuring that each element appears only once. This behavior makes sets useful when you need to store distinct items without worrying about duplicates.\n",
        "\n",
        "Sets in Python are implemented using hash tables, and every element in a set must be hashable. When you attempt to add an element, Python computes its hash and checks if it already exists in the set. If the element’s hash is already present, it is considered a duplicate and is ignored."
      ],
      "metadata": {
        "id": "yeKXep3ZC6Nl"
      }
    },
    {
      "cell_type": "markdown",
      "source": [
        "14: How does the “in” keyword work differently for lists and dictionaries?\n",
        "\n",
        "ANS:The in keyword in Python is used to check for membership — whether an element exists in a collection like a list, tuple, set, or dictionary. However, the behavior of the in keyword differs depending on whether you are working with a list or a dictionary.\n",
        "\n",
        "When you use the in keyword with a list, it checks whether the element is present in the list. The search is done by comparing the element with each item in the list.\n",
        "\n",
        "fruits = [\"apple\", \"banana\", \"cherry\"]\n",
        "\n",
        "print(\"apple\" in fruits)  # Output: True\n",
        "\n",
        "print(\"orange\" in fruits)  # Output: False\n",
        "\n",
        "How it works: The in operator checks if the element (\"apple\" or \"orange\") exists anywhere in the list. It returns True if the element is found, otherwise False.\n",
        "\n",
        "When you use the in keyword with a dictionary, it checks whether the key exists in the dictionary, not the values.\n",
        "\n",
        "student_grades = {\"Alice\": 90, \"Bob\": 85, \"Charlie\": 92}\n",
        "\n",
        "print(\"Alice\" in student_grades)  # Output: True\n",
        "\n",
        "print(90 in student_grades)  # Output: False\n",
        "\n",
        "How it works: The in operator checks if the key (\"Alice\", 90) is present in the dictionary:\n",
        "\n",
        "When checking \"Alice\" in student_grades, it returns True because \"Alice\" is a key in the dictionary.\n",
        "\n",
        "When checking 90 in student_grades, it returns False because 90 is a value, not a key in the dictionary.\n",
        "\n",
        "If you want to check if a value exists in the dictionary (not just the key), you can use the values() method.\n",
        "\n",
        "print(90 in student_grades.values())  # Output: True\n"
      ],
      "metadata": {
        "id": "JAg69v9YFfn4"
      }
    },
    {
      "cell_type": "markdown",
      "source": [
        "15: Can you modify the elements of a tuple? Explain why or why not?\n",
        "\n",
        "ANS:No, you cannot modify the elements of a tuple after it is created. This is because tuples are immutable in Python, which means their elements cannot be changed, added, or removed once the tuple is created.\n",
        "\n",
        "Once a tuple is created, its size and elements are fixed. This is a key property of tuples and makes them different from lists, which are mutable and allow changes after creation.\n",
        "\n",
        "Due to their immutability, tuples are hashable, which means they can be used as keys in dictionaries or stored in sets. If you could modify the elements of a tuple, it would change its hash value, making it unsuitable for use as a key in a dictionary.\n",
        "\n",
        "Tuples are more memory-efficient than lists. Since tuples cannot change, Python can optimize their storage and access. The immutability of tuples leads to better performance in certain scenarios where fixed data is needed.\n",
        "\n",
        "The reason you cannot modify a tuple is tied to the concept of immutability, which guarantees that the values contained in the tuple cannot be altered, preventing unintended side effects in your program. For example, if tuples could be changed, you wouldn't be able to rely on them to remain the same when used as keys in a dictionary or elements in a set."
      ],
      "metadata": {
        "id": "r7x0TOhFFfzT"
      }
    },
    {
      "cell_type": "markdown",
      "source": [
        "16:What is a nested dictionary, and give an example of its use case?\n",
        "\n",
        "ANS: A nested dictionary is a dictionary where the value associated with a key is itself another dictionary. In other words, dictionaries can be nested inside other dictionaries, allowing you to store more complex and hierarchical data structures.\n",
        "\n",
        "Nested dictionaries are useful when you need to represent structured data that requires multiple levels of categorization. For example, when working with complex information like student records, employee data, or geographic locations, nested dictionaries provide an effective way to organize the data hierarchically.\n",
        "\n",
        "A real-world use case for nested dictionaries could be managing the student records for a school system. Each student can have multiple attributes like name, age, and grades, and within grades, there can be multiple subjects with corresponding scores.\n",
        "\n",
        "Example Scenario: Student Records System\n",
        "We need to store data for each student, including their name, age, and scores in various subjects (Math, English, History, etc.).\n",
        "We use a nested dictionary where each student’s information is stored in the outer dictionary, and the inner dictionary stores their grades for each subject.\n",
        "\n",
        "students = {\n",
        "    \"Alice\": {\n",
        "        \"age\": 20,\n",
        "        \"grades\": {\"math\": 90, \"english\": 85, \"history\": 92}\n",
        "    },\n",
        "    \"Bob\": {\n",
        "        \"age\": 22,\n",
        "        \"grades\": {\"math\": 88, \"english\": 78, \"history\": 84}\n",
        "    }\n",
        "}\n",
        "\n",
        "'''We want to print the Math grade of Alice'''\n",
        "\n",
        "print(f\"Alice's Math grade: {students['Alice']['grades']['math']}\")\n",
        "\n",
        "''' Updating Bob's English grade'''\n",
        "\n",
        "students[\"Bob\"][\"grades\"][\"english\"] = 80\n",
        "\n",
        "''' Print the updated English grade for Bob'''\n",
        "\n",
        "print(f\"Bob's updated English grade: {students['Bob']['grades']['english']}\")\n",
        "output:\n",
        "Alice's Math grade: 90\n",
        "Bob's updated English grade: 80"
      ],
      "metadata": {
        "id": "EcgCB38dFf2H"
      }
    },
    {
      "cell_type": "markdown",
      "source": [
        "17:Describe the time complexity of accessing elements in a dictionaryE ?\n",
        "\n",
        "ANS:In Python, dictionaries are implemented using hash tables, which means the key-value pairs are stored in such a way that the access time is generally very efficient. The time complexity of accessing elements in a dictionary depends on the operations involved.\n",
        "\n",
        "1. Average Time Complexity: O(1)\n",
        "\n",
        "Dictionary access (i.e., retrieving a value using a key) has an average time complexity of O(1), which means constant time.\n",
        "This is because dictionaries are implemented using hash tables, and Python uses the hash value of the key to directly calculate the index of the value in the underlying table. This allows it to access the value associated with the key without needing to search through all other elements.\n",
        "\n",
        "When you access a value in a dictionary (e.g., my_dict[key]), Python computes the hash of the key.\n",
        "It uses this hash to directly index into the hash table to find the corresponding value. This operation takes constant time in most cases, regardless of the size of the dictionary.\n",
        "\n",
        "2. Worst-Case Time Complexity: O(n)\n",
        "In certain rare cases, the time complexity of dictionary access can degrade to O(n), where n is the number of elements in the dictionary. This happens due to hash collisions.\n",
        "\n",
        "Hash collision occurs when two different keys produce the same hash value. When this happens, Python will store multiple keys in the same location using a technique called open addressing or chaining.\n",
        "In cases of heavy collisions, Python may need to check multiple keys in the same \"bucket\" (or slot in the table), leading to a performance hit and resulting in O(n) time complexity for accessing an element.\n",
        "However, this scenario is quite rare, and Python's hash table implementation is designed to minimize collisions, so in practice, dictionary lookups are almost always O(1).\n",
        "\n",
        "3. Insertion and Deletion Complexity: O(1)\n",
        "Insertion and deletion operations (e.g., my_dict[key] = value or del my_dict[key]) also have an average time complexity of O(1).\n",
        "Like access, these operations are efficient because of how keys are hashed and stored in the hash table.\n",
        "\n"
      ],
      "metadata": {
        "id": "7SyZPcyEFf4u"
      }
    },
    {
      "cell_type": "markdown",
      "source": [
        "18:In what situations are lists preferred over dictionaries?\n",
        "\n",
        "ANS:While both lists and dictionaries are essential data structures in Python, they have different strengths and are suited for different use cases. Lists are preferred over dictionaries in the following situations:\n",
        "\n",
        "When You Need Ordered Data (and don't need fast lookups by key)\n",
        "Lists maintain the order of elements. If the order of the elements matters and you don't need to associate each element with a key, then a list is the better choice.\n",
        "Dictionaries (as of Python 3.7 and later) maintain insertion order, but they are designed for key-value mapping, not for maintaining a sequence of values.\n",
        "\n",
        "Lists are ideal when you only have a collection of values and do not need to associate them with keys. If the collection consists of items that do not require unique identifiers (keys), lists are simpler and more efficient.\n",
        "\n",
        "Lists provide convenient access to elements via indexing, and they support slicing, which allows you to extract parts of the list.\n",
        "\n",
        "Lists are straightforward to use when you simply need to hold a sequence of elements. They provide methods for adding, removing, and modifying items in an ordered collection.\n",
        "\n",
        "Example:\n",
        "\n",
        "Managing a list of students or grades where the order is important."
      ],
      "metadata": {
        "id": "gpTt04F3Ft5P"
      }
    },
    {
      "cell_type": "markdown",
      "source": [
        "19: Why are dictionaries considered unordered, and how does that affect data retrieval ?\n",
        "\n",
        "ANS: Dictionaries in Python are considered unordered because the elements (key-value pairs) are stored in an underlying data structure known as a hash table. In a hash table, elements are indexed based on the hash values of their keys, rather than a sequential position like in a list.\n",
        "\n",
        "The order in which key-value pairs are stored in the hash table is not guaranteed. When you iterate over a dictionary or access its elements, you don't know in which order the pairs will appear, and it may vary depending on the implementation, the version of Python, or even the number of operations performed on the dictionary.\n",
        "However, starting from Python 3.7, dictionaries preserve the insertion order of items. This means that, while dictionaries are technically unordered, the order in which items are inserted will be maintained when iterating over the dictionary. So, although the internal storage mechanism is unordered, the insertion order is preserved for practical purposes.\n",
        "\n",
        "1.Efficient Key Lookup: Despite being unordered, dictionaries allow efficient lookups based on keys, with O(1) average time complexity.\n",
        "\n",
        "2.No Indexing: Dictionaries do not support indexing (like lists or tuples), so you cannot access items by position. You must use keys to access values.\n",
        "\n",
        "3.Order Preservation (Python 3.7+): Starting from Python 3.7, dictionaries preserve the insertion order when iterating over the dictionary. However, this is not the same as an ordered structure like a list, and it should not be relied upon for scenarios where strict ordering is required.\n",
        "\n",
        "4.Key-based Access: Retrievals must be done using keys, not indices. For example, to retrieve a value, you must do my_dict[\"apple\"], not my_dict[0]."
      ],
      "metadata": {
        "id": "Dua6c-wQFuB1"
      }
    },
    {
      "cell_type": "markdown",
      "source": [
        "20: Explain the difference between a list and a dictionary in terms of data retrieval?\n",
        "\n",
        "ANS: In Python, both lists and dictionaries are commonly used data structures, but they differ significantly in terms of how data is stored and how data is retrieved. Here's a detailed explanation of these differences:\n",
        "\n",
        "1. Data Retrieval Using Indices (Lists)\n",
        "Lists are ordered collections of elements where each element is stored at a specific index. The index represents the position of an element in the list, starting from 0 for the first element.\n",
        "\n",
        "Data retrieval in lists is done using the index. This means you access the element by specifying its position in the list.\n",
        "\n",
        "2. Data Retrieval Using Keys (Dictionaries)\n",
        "Dictionaries are unordered collections of key-value pairs. Each element is stored with a unique key that is associated with a value.\n",
        "\n",
        "Data retrieval in dictionaries is done by key, not index. You retrieve a value by providing the corresponding key."
      ],
      "metadata": {
        "id": "sjP3J6cuFuPG"
      }
    },
    {
      "cell_type": "code",
      "source": [
        "#1: Write a code to create a string with your name and print it?\n",
        "\n",
        "#ANS:\n",
        "name=\"Nidhi Jaiswal\"\n",
        "print(name)"
      ],
      "metadata": {
        "colab": {
          "base_uri": "https://localhost:8080/"
        },
        "id": "52pGi94CwZdO",
        "outputId": "1d862827-64c3-408a-d285-3e897ff6a872"
      },
      "execution_count": 1,
      "outputs": [
        {
          "output_type": "stream",
          "name": "stdout",
          "text": [
            "Nidhi Jaiswal\n"
          ]
        }
      ]
    },
    {
      "cell_type": "code",
      "source": [
        "#2: Write a code to find the length of the string \"Hello World\"?\n",
        "\n",
        "#ANS:\n",
        "print(len(\"Hello World\"))"
      ],
      "metadata": {
        "colab": {
          "base_uri": "https://localhost:8080/"
        },
        "id": "rtEapXPYwZhy",
        "outputId": "aaf47224-a462-49cc-950c-49e43ff394f7"
      },
      "execution_count": 2,
      "outputs": [
        {
          "output_type": "stream",
          "name": "stdout",
          "text": [
            "11\n"
          ]
        }
      ]
    },
    {
      "cell_type": "code",
      "source": [
        "#3: Write a code to slice the first 3 characters from the string \"Python Programming\"?\n",
        "\n",
        "#ANS:\n",
        "string=\"Python Programming\"\n",
        "sliced_string = string[:3]\n",
        "print(\"The first 3 characters are:\", sliced_string)"
      ],
      "metadata": {
        "colab": {
          "base_uri": "https://localhost:8080/"
        },
        "id": "PSUvAVWzwZk-",
        "outputId": "dbc1957e-3072-4763-bc7a-f31e7e4768be"
      },
      "execution_count": 4,
      "outputs": [
        {
          "output_type": "stream",
          "name": "stdout",
          "text": [
            "The first 3 characters are: Pyt\n"
          ]
        }
      ]
    },
    {
      "cell_type": "code",
      "source": [
        "#4: Write a code to convert the string \"hello\" to uppercase?\n",
        "\n",
        "#ANS:\n",
        "\n",
        "string=\"hello\"\n",
        "uppercases=str.upper(string)\n",
        "print(uppercases)\n",
        "\n",
        "print(str.upper(\"hello\")) #another way"
      ],
      "metadata": {
        "colab": {
          "base_uri": "https://localhost:8080/"
        },
        "id": "JP3kgoujwZoU",
        "outputId": "86d10967-8097-4443-f258-cb3eddb8e3ac"
      },
      "execution_count": 10,
      "outputs": [
        {
          "output_type": "stream",
          "name": "stdout",
          "text": [
            "HELLO\n",
            "HELLO\n"
          ]
        }
      ]
    },
    {
      "cell_type": "code",
      "source": [
        "#5: Write a code to replace the word \"apple\" with \"orange\" in the string \"I like apple\"?\n",
        "\n",
        "#ANS:\n",
        "\n",
        "string=\"I like Apple\"\n",
        "new_string=string[:7]+\"Orange\"\n",
        "print(new_string)\n",
        "\n",
        "string1=string.replace(\"Apple\",\"Orange\")  #another way\n",
        "print(string1)"
      ],
      "metadata": {
        "colab": {
          "base_uri": "https://localhost:8080/"
        },
        "id": "WUSN4WHjwZql",
        "outputId": "5c9db2b2-140d-440a-a006-86a40861a947"
      },
      "execution_count": 18,
      "outputs": [
        {
          "output_type": "stream",
          "name": "stdout",
          "text": [
            "I like Orange\n",
            "I like Orange\n"
          ]
        }
      ]
    },
    {
      "cell_type": "code",
      "source": [
        "#6: Write a code to create a list with numbers 1 to 5 and print it?\n",
        "\n",
        "#ANS:\n",
        "\n",
        "empty_list1=[]\n",
        "i=1\n",
        "while i <= 5:\n",
        "  if i>=0:\n",
        "     empty_list1.append(i)\n",
        "     i=i+1\n",
        "print(empty_list1)"
      ],
      "metadata": {
        "colab": {
          "base_uri": "https://localhost:8080/"
        },
        "id": "BqK3AQVUwZs0",
        "outputId": "b90c6b91-007f-4021-f289-8010d1860bad"
      },
      "execution_count": 23,
      "outputs": [
        {
          "output_type": "stream",
          "name": "stdout",
          "text": [
            "[1, 2, 3, 4, 5]\n"
          ]
        }
      ]
    },
    {
      "cell_type": "code",
      "source": [
        "#7: Write a code to append the number 10 to the list [1, 2, 3, 4]?\n",
        "\n",
        "#ANS:\n",
        "\n",
        "list1=[1, 2, 3, 4]\n",
        "list1.append(10)\n",
        "print(list1)"
      ],
      "metadata": {
        "colab": {
          "base_uri": "https://localhost:8080/"
        },
        "id": "4HFyi4UjwZvy",
        "outputId": "74fd4749-1f15-4680-d8bc-ab87c1712675"
      },
      "execution_count": 28,
      "outputs": [
        {
          "output_type": "stream",
          "name": "stdout",
          "text": [
            "[1, 2, 3, 4, 10]\n"
          ]
        }
      ]
    },
    {
      "cell_type": "code",
      "source": [
        "#8: Write a code to remove the number 3 from the list [1, 2, 3, 4, 5]?\n",
        "\n",
        "#ANS:\n",
        "\n",
        "list1=[1, 2, 3, 4, 5]\n",
        "list1.remove(3)\n",
        "print(list1)"
      ],
      "metadata": {
        "colab": {
          "base_uri": "https://localhost:8080/"
        },
        "id": "O1JUSUNqwZzS",
        "outputId": "b63244ef-f757-45a7-85f9-a8ea1d27f9f9"
      },
      "execution_count": 31,
      "outputs": [
        {
          "output_type": "stream",
          "name": "stdout",
          "text": [
            "[1, 2, 4, 5]\n"
          ]
        }
      ]
    },
    {
      "cell_type": "code",
      "source": [
        "#9: Write a code to access the second element in the list ['a', 'b', 'c', 'd']?\n",
        "\n",
        "#ANS:\n",
        "\n",
        "list1=['a', 'b', 'c', 'd']\n",
        "list1[1:2]"
      ],
      "metadata": {
        "colab": {
          "base_uri": "https://localhost:8080/"
        },
        "id": "LSZIVfEE_Q_q",
        "outputId": "b5d2d938-b20e-4133-af10-2e3f36d0913d"
      },
      "execution_count": 36,
      "outputs": [
        {
          "output_type": "execute_result",
          "data": {
            "text/plain": [
              "['b']"
            ]
          },
          "metadata": {},
          "execution_count": 36
        }
      ]
    },
    {
      "cell_type": "code",
      "source": [
        "#10: Write a code to reverse the list [10, 20, 30, 40, 50].?\n",
        "\n",
        "#ANS:\n",
        "\n",
        "list1=[10, 20, 30, 40, 50]\n",
        "for list2 in list1[::-1]:\n",
        "  print(list2)\n",
        "  list2=list2+1\n",
        "\n",
        "reversed_list = list(reversed(list1))\n",
        "\n",
        "print(reversed_list)"
      ],
      "metadata": {
        "colab": {
          "base_uri": "https://localhost:8080/"
        },
        "id": "0nGyWrI_wZ2p",
        "outputId": "c04fad39-7a3f-4316-fa67-ff2c14f23b28"
      },
      "execution_count": 49,
      "outputs": [
        {
          "output_type": "stream",
          "name": "stdout",
          "text": [
            "50\n",
            "40\n",
            "30\n",
            "20\n",
            "10\n",
            "[50, 40, 30, 20, 10]\n"
          ]
        }
      ]
    },
    {
      "cell_type": "code",
      "source": [
        "#11: Write a code to create a tuple with the elements 10, 20, 30 and print it?\n",
        "\n",
        "#ANS:\n",
        "tup=(10, 20, 30)\n",
        "print(tup)"
      ],
      "metadata": {
        "colab": {
          "base_uri": "https://localhost:8080/"
        },
        "id": "1VQFgtsRwZ6B",
        "outputId": "4330d23e-7600-4450-9211-12d56cd8459b"
      },
      "execution_count": 52,
      "outputs": [
        {
          "output_type": "stream",
          "name": "stdout",
          "text": [
            "(10, 20, 30)\n"
          ]
        }
      ]
    },
    {
      "cell_type": "code",
      "source": [
        "#12: Write a code to access the first element of the tuple ('apple', 'banana', 'cherry')?\n",
        "\n",
        "#ANS:\n",
        "tup=('apple', 'banana', 'cherry')\n",
        "tup[0]"
      ],
      "metadata": {
        "colab": {
          "base_uri": "https://localhost:8080/",
          "height": 35
        },
        "id": "v4oEkIQ4wbAT",
        "outputId": "f48a9df6-60aa-4960-a9a7-41694d8096c0"
      },
      "execution_count": 54,
      "outputs": [
        {
          "output_type": "execute_result",
          "data": {
            "text/plain": [
              "'apple'"
            ],
            "application/vnd.google.colaboratory.intrinsic+json": {
              "type": "string"
            }
          },
          "metadata": {},
          "execution_count": 54
        }
      ]
    },
    {
      "cell_type": "code",
      "source": [
        "#13: Write a code to count how many times the number 2 appears in the tuple (1, 2, 3, 2, 4, 2)?\n",
        "\n",
        "#ANS:\n",
        "tup=(1, 2, 3, 2, 4, 2)\n",
        "#tup.count(2)\n",
        "counter= 0\n",
        "new=[]\n",
        "for i in tup:\n",
        "  if i==2:\n",
        "     new.append(i)\n",
        "     counter+=1\n",
        "print(new)\n",
        "print(counter)"
      ],
      "metadata": {
        "colab": {
          "base_uri": "https://localhost:8080/"
        },
        "id": "_lgIjU3TwbDc",
        "outputId": "6d62c267-4354-42c0-8a74-b046afe9bc60"
      },
      "execution_count": 69,
      "outputs": [
        {
          "output_type": "stream",
          "name": "stdout",
          "text": [
            "[2, 2, 2]\n",
            "3\n"
          ]
        }
      ]
    },
    {
      "cell_type": "code",
      "source": [
        "#14: Write a code to find the index of the element \"cat\" in the tuple ('dog', 'cat', 'rabbit').\n",
        "\n",
        "#ANS:\n",
        "tup=('dog', 'cat', 'rabbit')\n",
        "tup.index(\"cat\")"
      ],
      "metadata": {
        "colab": {
          "base_uri": "https://localhost:8080/"
        },
        "id": "u5wH65m7wbGx",
        "outputId": "59bfb5fa-6b7c-4ed7-e7c1-c0016841b961"
      },
      "execution_count": 62,
      "outputs": [
        {
          "output_type": "execute_result",
          "data": {
            "text/plain": [
              "1"
            ]
          },
          "metadata": {},
          "execution_count": 62
        }
      ]
    },
    {
      "cell_type": "code",
      "source": [
        "#15: Write a code to check if the element \"banana\" is in the tuple ('apple', 'orange', 'banana').\n",
        "\n",
        "#ANS:\n",
        "tup=('apple', 'orange', 'banana')\n",
        "\"banana\" in tup"
      ],
      "metadata": {
        "colab": {
          "base_uri": "https://localhost:8080/"
        },
        "id": "0wjppVUywbJ2",
        "outputId": "021cc2f3-7512-40ec-b688-32ebe7cf6fc6"
      },
      "execution_count": 63,
      "outputs": [
        {
          "output_type": "execute_result",
          "data": {
            "text/plain": [
              "True"
            ]
          },
          "metadata": {},
          "execution_count": 63
        }
      ]
    },
    {
      "cell_type": "code",
      "source": [
        "#16: Write a code to create a set with the elements 1, 2, 3, 4, 5 and print it.\n",
        "\n",
        "#ANS:\n",
        "set1={1, 2, 3, 4, 5}\n",
        "set1"
      ],
      "metadata": {
        "colab": {
          "base_uri": "https://localhost:8080/"
        },
        "id": "LFglBnLdwbM_",
        "outputId": "9f450257-6575-4418-fcd1-6f9c128a269e"
      },
      "execution_count": 64,
      "outputs": [
        {
          "output_type": "execute_result",
          "data": {
            "text/plain": [
              "{1, 2, 3, 4, 5}"
            ]
          },
          "metadata": {},
          "execution_count": 64
        }
      ]
    },
    {
      "cell_type": "code",
      "source": [
        "#17: Write a code to add the element 6 to the set {1, 2, 3, 4}.\n",
        "\n",
        "#ANS:\n",
        "set1={1, 2, 3, 4}\n",
        "set1.add(6)\n",
        "print(set1)"
      ],
      "metadata": {
        "colab": {
          "base_uri": "https://localhost:8080/"
        },
        "id": "tkPzNeBPwbQS",
        "outputId": "8749f184-4341-4c8d-ffee-28a901f5bae0"
      },
      "execution_count": 72,
      "outputs": [
        {
          "output_type": "stream",
          "name": "stdout",
          "text": [
            "{1, 2, 3, 4, 6}\n"
          ]
        }
      ]
    },
    {
      "cell_type": "code",
      "source": [
        "#18,19,20,21,22,23,24 is same as 11,12,13,14,15,16,17"
      ],
      "metadata": {
        "id": "JeOISoauT6aD"
      },
      "execution_count": 73,
      "outputs": []
    }
  ]
}